{
  "nbformat": 4,
  "nbformat_minor": 0,
  "metadata": {
    "colab": {
      "provenance": [],
      "authorship_tag": "ABX9TyMGp9/OEm9zS68+mbf/t1kB",
      "include_colab_link": true
    },
    "kernelspec": {
      "name": "python3",
      "display_name": "Python 3"
    },
    "language_info": {
      "name": "python"
    }
  },
  "cells": [
    {
      "cell_type": "markdown",
      "metadata": {
        "id": "view-in-github",
        "colab_type": "text"
      },
      "source": [
        "<a href=\"https://colab.research.google.com/github/GMgoes/machine-learning-colabority/blob/main/DecisionTree/DecisionTree.ipynb\" target=\"_parent\"><img src=\"https://colab.research.google.com/assets/colab-badge.svg\" alt=\"Open In Colab\"/></a>"
      ]
    },
    {
      "cell_type": "code",
      "source": [
        "from sklearn.metrics import accuracy_score, confusion_matrix, ConfusionMatrixDisplay\n",
        "from sklearn.tree import DecisionTreeClassifier, plot_tree\n",
        "from sklearn.model_selection import train_test_split\n",
        "from imblearn.over_sampling import RandomOverSampler\n",
        "from sklearn.datasets import fetch_openml\n",
        "from sklearn import preprocessing\n",
        "import matplotlib.pyplot as plt\n",
        "import numpy as np"
      ],
      "metadata": {
        "id": "w7i-lzpImX0b"
      },
      "execution_count": 1,
      "outputs": []
    },
    {
      "cell_type": "code",
      "source": [
        "# Base de dados OpenML = https://www.openml.org/search?type=data&status=any&id=180\n",
        "data, target = fetch_openml(data_id = 180, as_frame=True, return_X_y= True)\n",
        "\n",
        "# Pré-processamento dos dados\n",
        "le = preprocessing.LabelEncoder()\n",
        "data = data.apply(le.fit_transform)\n",
        "\n",
        "# Os nossos dados estão desproporcionais em relação à quantidade, para isso, usamos o RandomOverSampler\n",
        "# para nivelarmos a quantidade que temos (Replicando objetos que estão em menor quantidade)\n",
        "sampler = RandomOverSampler()\n",
        "data, target = sampler.fit_resample(data, target)\n",
        "\n",
        "# Obtendo as classes (Sete tipos de árvores que podem existir nas quatro regiões do parque nacional)\n",
        "classes = list(np.unique(target))"
      ],
      "metadata": {
        "id": "KKejmuxkmbA1"
      },
      "execution_count": null,
      "outputs": []
    },
    {
      "cell_type": "code",
      "source": [
        "# Fazendo o Train Test Split (TTS) dos que serão utilizados para treino e que serão utilizados para teste\n",
        "# Podemos fazer o TTS nesse caso, pois possuímos uma grande quantidade de dados\n",
        "x_train, x_test, y_train, y_test  = train_test_split(data, target, test_size = 0.2, random_state = 0)\n",
        "\n",
        "# Treinando os dados através de uma árvore de decisão\n",
        "clf = DecisionTreeClassifier(criterion = 'entropy', max_depth = 20, random_state = 0)\n",
        "# Treinamos com os dados disponibiizados para treino X e Y\n",
        "clf.fit(x_train, y_train)"
      ],
      "metadata": {
        "colab": {
          "base_uri": "https://localhost:8080/",
          "height": 75
        },
        "id": "xGHn8i4ome0v",
        "outputId": "07cebc17-130c-463a-aaac-641d68305e6f"
      },
      "execution_count": 33,
      "outputs": [
        {
          "output_type": "execute_result",
          "data": {
            "text/plain": [
              "DecisionTreeClassifier(criterion='entropy', max_depth=20, random_state=0)"
            ],
            "text/html": [
              "<style>#sk-container-id-15 {color: black;background-color: white;}#sk-container-id-15 pre{padding: 0;}#sk-container-id-15 div.sk-toggleable {background-color: white;}#sk-container-id-15 label.sk-toggleable__label {cursor: pointer;display: block;width: 100%;margin-bottom: 0;padding: 0.3em;box-sizing: border-box;text-align: center;}#sk-container-id-15 label.sk-toggleable__label-arrow:before {content: \"▸\";float: left;margin-right: 0.25em;color: #696969;}#sk-container-id-15 label.sk-toggleable__label-arrow:hover:before {color: black;}#sk-container-id-15 div.sk-estimator:hover label.sk-toggleable__label-arrow:before {color: black;}#sk-container-id-15 div.sk-toggleable__content {max-height: 0;max-width: 0;overflow: hidden;text-align: left;background-color: #f0f8ff;}#sk-container-id-15 div.sk-toggleable__content pre {margin: 0.2em;color: black;border-radius: 0.25em;background-color: #f0f8ff;}#sk-container-id-15 input.sk-toggleable__control:checked~div.sk-toggleable__content {max-height: 200px;max-width: 100%;overflow: auto;}#sk-container-id-15 input.sk-toggleable__control:checked~label.sk-toggleable__label-arrow:before {content: \"▾\";}#sk-container-id-15 div.sk-estimator input.sk-toggleable__control:checked~label.sk-toggleable__label {background-color: #d4ebff;}#sk-container-id-15 div.sk-label input.sk-toggleable__control:checked~label.sk-toggleable__label {background-color: #d4ebff;}#sk-container-id-15 input.sk-hidden--visually {border: 0;clip: rect(1px 1px 1px 1px);clip: rect(1px, 1px, 1px, 1px);height: 1px;margin: -1px;overflow: hidden;padding: 0;position: absolute;width: 1px;}#sk-container-id-15 div.sk-estimator {font-family: monospace;background-color: #f0f8ff;border: 1px dotted black;border-radius: 0.25em;box-sizing: border-box;margin-bottom: 0.5em;}#sk-container-id-15 div.sk-estimator:hover {background-color: #d4ebff;}#sk-container-id-15 div.sk-parallel-item::after {content: \"\";width: 100%;border-bottom: 1px solid gray;flex-grow: 1;}#sk-container-id-15 div.sk-label:hover label.sk-toggleable__label {background-color: #d4ebff;}#sk-container-id-15 div.sk-serial::before {content: \"\";position: absolute;border-left: 1px solid gray;box-sizing: border-box;top: 0;bottom: 0;left: 50%;z-index: 0;}#sk-container-id-15 div.sk-serial {display: flex;flex-direction: column;align-items: center;background-color: white;padding-right: 0.2em;padding-left: 0.2em;position: relative;}#sk-container-id-15 div.sk-item {position: relative;z-index: 1;}#sk-container-id-15 div.sk-parallel {display: flex;align-items: stretch;justify-content: center;background-color: white;position: relative;}#sk-container-id-15 div.sk-item::before, #sk-container-id-15 div.sk-parallel-item::before {content: \"\";position: absolute;border-left: 1px solid gray;box-sizing: border-box;top: 0;bottom: 0;left: 50%;z-index: -1;}#sk-container-id-15 div.sk-parallel-item {display: flex;flex-direction: column;z-index: 1;position: relative;background-color: white;}#sk-container-id-15 div.sk-parallel-item:first-child::after {align-self: flex-end;width: 50%;}#sk-container-id-15 div.sk-parallel-item:last-child::after {align-self: flex-start;width: 50%;}#sk-container-id-15 div.sk-parallel-item:only-child::after {width: 0;}#sk-container-id-15 div.sk-dashed-wrapped {border: 1px dashed gray;margin: 0 0.4em 0.5em 0.4em;box-sizing: border-box;padding-bottom: 0.4em;background-color: white;}#sk-container-id-15 div.sk-label label {font-family: monospace;font-weight: bold;display: inline-block;line-height: 1.2em;}#sk-container-id-15 div.sk-label-container {text-align: center;}#sk-container-id-15 div.sk-container {/* jupyter's `normalize.less` sets `[hidden] { display: none; }` but bootstrap.min.css set `[hidden] { display: none !important; }` so we also need the `!important` here to be able to override the default hidden behavior on the sphinx rendered scikit-learn.org. See: https://github.com/scikit-learn/scikit-learn/issues/21755 */display: inline-block !important;position: relative;}#sk-container-id-15 div.sk-text-repr-fallback {display: none;}</style><div id=\"sk-container-id-15\" class=\"sk-top-container\"><div class=\"sk-text-repr-fallback\"><pre>DecisionTreeClassifier(criterion=&#x27;entropy&#x27;, max_depth=20, random_state=0)</pre><b>In a Jupyter environment, please rerun this cell to show the HTML representation or trust the notebook. <br />On GitHub, the HTML representation is unable to render, please try loading this page with nbviewer.org.</b></div><div class=\"sk-container\" hidden><div class=\"sk-item\"><div class=\"sk-estimator sk-toggleable\"><input class=\"sk-toggleable__control sk-hidden--visually\" id=\"sk-estimator-id-15\" type=\"checkbox\" checked><label for=\"sk-estimator-id-15\" class=\"sk-toggleable__label sk-toggleable__label-arrow\">DecisionTreeClassifier</label><div class=\"sk-toggleable__content\"><pre>DecisionTreeClassifier(criterion=&#x27;entropy&#x27;, max_depth=20, random_state=0)</pre></div></div></div></div></div>"
            ]
          },
          "metadata": {},
          "execution_count": 33
        }
      ]
    },
    {
      "cell_type": "code",
      "execution_count": null,
      "metadata": {
        "id": "pVDRqnoaKVbF"
      },
      "outputs": [],
      "source": [
        "# Mensuramos quanto nosso modelo consegue acertar com dados antes não vistos\n",
        "predict = clf.predict(x_test)\n",
        "\n",
        "# Mensuramos a acurácia, ou seja, comparamos o que ele falou que era com o que realmente é\n",
        "accuracy = accuracy_score(predict, y_test)\n",
        "print(f'Accuracy: {accuracy}')\n",
        "\n",
        "# Plotando os dados e exibindo a matrix de confusão (TP, TN, FP, FN)\n",
        "#cm = confusion_matrix(y_test, predict, labels = classes)\n",
        "#disp = ConfusionMatrixDisplay(confusion_matrix = cm, display_labels = classes)\n",
        "#disp.plot()\n",
        "#plt.show()\n",
        "\n",
        "# Plotando os dados e exibindo no formato de Árvore\n",
        "#plot_tree(clf, max_depth = 5, filled = True)\n",
        "#plt.show()\n"
      ]
    },
    {
      "cell_type": "markdown",
      "source": [
        "Resultado com Data = 50%, Target = 50%, max_depth = None, e criterion = gini -> ~ 93% <br>\n",
        "Resultado com Data = 60%, Target = 40%, max_depth = None,  e criterion = gini -> ~ 92% <br>\n",
        "Resultado com Data = 70%, Target = 30%, max_depth = None,  e criterion = gini -> ~ 94% <br>\n",
        "Resultado com Data = 80%, Target = 20%, max_depth = None,  e criterion = gini -> ~ 94% <br>\n",
        "\n",
        "Resultado com Data = 50%, Target = 50%, max_depth = None,  e criterion = entropy -> ~ 93% <br>\n",
        "Resultado com Data = 60%, Target = 40%, max_depth = None,  e criterion = entropy -> ~ 93% <br>\n",
        "Resultado com Data = 70%, Target = 30%, max_depth = None,  e criterion = entropy -> ~ 94% <br>\n",
        "Resultado com Data = 80%, Target = 20%, max_depth = None,  e criterion = entropy -> ~ 94% <br>\n",
        "\n",
        "\n",
        "---\n",
        "\n",
        "\n",
        "Resultado com Data = 50%, Target = 50%, max_depth = 5,  e criterion = entropy -> ~ 51% <br>\n",
        "Resultado com Data = 50%, Target = 50%, max_depth = 10,  e criterion = entropy -> ~ 63% <br>\n",
        "Resultado com Data = 50%, Target = 50%, max_depth = 15,  e criterion = entropy -> ~ 79% <br>\n",
        "Resultado com Data = 50%, Target = 50%, max_depth = 20,  e criterion = entropy -> ~ 89% <br>\n",
        "\n",
        "Resultado com Data = 80%, Target = 20%, max_depth = 5,  e criterion = entropy -> ~ 51% <br>\n",
        "Resultado com Data = 80%, Target = 20%, max_depth = 10,  e criterion = entropy -> ~ 63% <br>\n",
        "Resultado com Data = 80%, Target = 20%, max_depth = 15,  e criterion = entropy -> ~ 79% <br>\n",
        "Resultado com Data = 80%, Target = 20%, max_depth = 20,  e criterion = entropy -> ~ 90% <br>"
      ],
      "metadata": {
        "id": "-rIxcnoHmwx2"
      }
    }
  ]
}